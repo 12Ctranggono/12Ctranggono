{
  "nbformat": 4,
  "nbformat_minor": 0,
  "metadata": {
    "colab": {
      "name": "FINAL PROJECT RAKAMIN.ipynb",
      "provenance": []
    },
    "kernelspec": {
      "name": "python3",
      "display_name": "Python 3"
    },
    "language_info": {
      "name": "python"
    }
  },
  "cells": [
    {
      "cell_type": "code",
      "execution_count": 1,
      "metadata": {
        "id": "HBsbkL0ze4Ps"
      },
      "outputs": [],
      "source": [
        "import pandas as pd\n",
        "import numpy as np\n",
        "import matplotlib.pyplot as plt\n",
        "import seaborn as sns"
      ]
    },
    {
      "cell_type": "markdown",
      "source": [],
      "metadata": {
        "id": "okEaRaH5WZdm"
      }
    },
    {
      "cell_type": "code",
      "source": [
        "df_preapp = pd.read_csv('/content/drive/MyDrive/FINAL PROJECT RAKAMIN/home-credit-default-risk/previous_application.csv')"
      ],
      "metadata": {
        "id": "_n6ooj-Te2FR"
      },
      "execution_count": 2,
      "outputs": []
    },
    {
      "cell_type": "code",
      "source": [
        "df_preapp"
      ],
      "metadata": {
        "colab": {
          "base_uri": "https://localhost:8080/",
          "height": 557
        },
        "id": "uMw-heoIhyIu",
        "outputId": "10781dbb-9911-4fab-c343-d40e360309f9"
      },
      "execution_count": null,
      "outputs": [
        {
          "output_type": "execute_result",
          "data": {
            "text/plain": [
              "         SK_ID_PREV  SK_ID_CURR NAME_CONTRACT_TYPE  AMT_ANNUITY  \\\n",
              "0           2030495      271877     Consumer loans     1730.430   \n",
              "1           2802425      108129         Cash loans    25188.615   \n",
              "2           2523466      122040         Cash loans    15060.735   \n",
              "3           2819243      176158         Cash loans    47041.335   \n",
              "4           1784265      202054         Cash loans    31924.395   \n",
              "...             ...         ...                ...          ...   \n",
              "1670209     2300464      352015     Consumer loans    14704.290   \n",
              "1670210     2357031      334635     Consumer loans     6622.020   \n",
              "1670211     2659632      249544     Consumer loans    11520.855   \n",
              "1670212     2785582      400317         Cash loans    18821.520   \n",
              "1670213     2418762      261212         Cash loans    16431.300   \n",
              "\n",
              "         AMT_APPLICATION  AMT_CREDIT  AMT_DOWN_PAYMENT  AMT_GOODS_PRICE  \\\n",
              "0                17145.0     17145.0               0.0          17145.0   \n",
              "1               607500.0    679671.0               NaN         607500.0   \n",
              "2               112500.0    136444.5               NaN         112500.0   \n",
              "3               450000.0    470790.0               NaN         450000.0   \n",
              "4               337500.0    404055.0               NaN         337500.0   \n",
              "...                  ...         ...               ...              ...   \n",
              "1670209         267295.5    311400.0               0.0         267295.5   \n",
              "1670210          87750.0     64291.5           29250.0          87750.0   \n",
              "1670211         105237.0    102523.5           10525.5         105237.0   \n",
              "1670212         180000.0    191880.0               NaN         180000.0   \n",
              "1670213         360000.0    360000.0               NaN         360000.0   \n",
              "\n",
              "        WEEKDAY_APPR_PROCESS_START  HOUR_APPR_PROCESS_START  ...  \\\n",
              "0                         SATURDAY                       15  ...   \n",
              "1                         THURSDAY                       11  ...   \n",
              "2                          TUESDAY                       11  ...   \n",
              "3                           MONDAY                        7  ...   \n",
              "4                         THURSDAY                        9  ...   \n",
              "...                            ...                      ...  ...   \n",
              "1670209                  WEDNESDAY                       12  ...   \n",
              "1670210                    TUESDAY                       15  ...   \n",
              "1670211                     MONDAY                       12  ...   \n",
              "1670212                  WEDNESDAY                        9  ...   \n",
              "1670213                     SUNDAY                       10  ...   \n",
              "\n",
              "         NAME_SELLER_INDUSTRY  CNT_PAYMENT  NAME_YIELD_GROUP  \\\n",
              "0                Connectivity         12.0            middle   \n",
              "1                         XNA         36.0        low_action   \n",
              "2                         XNA         12.0              high   \n",
              "3                         XNA         12.0            middle   \n",
              "4                         XNA         24.0              high   \n",
              "...                       ...          ...               ...   \n",
              "1670209             Furniture         30.0        low_normal   \n",
              "1670210             Furniture         12.0            middle   \n",
              "1670211  Consumer electronics         10.0        low_normal   \n",
              "1670212                   XNA         12.0        low_normal   \n",
              "1670213                   XNA         48.0            middle   \n",
              "\n",
              "                 PRODUCT_COMBINATION  DAYS_FIRST_DRAWING DAYS_FIRST_DUE  \\\n",
              "0           POS mobile with interest            365243.0          -42.0   \n",
              "1                   Cash X-Sell: low            365243.0         -134.0   \n",
              "2                  Cash X-Sell: high            365243.0         -271.0   \n",
              "3                Cash X-Sell: middle            365243.0         -482.0   \n",
              "4                  Cash Street: high                 NaN            NaN   \n",
              "...                              ...                 ...            ...   \n",
              "1670209   POS industry with interest            365243.0         -508.0   \n",
              "1670210   POS industry with interest            365243.0        -1604.0   \n",
              "1670211  POS household with interest            365243.0        -1457.0   \n",
              "1670212             Cash X-Sell: low            365243.0        -1155.0   \n",
              "1670213          Cash X-Sell: middle            365243.0        -1163.0   \n",
              "\n",
              "        DAYS_LAST_DUE_1ST_VERSION  DAYS_LAST_DUE DAYS_TERMINATION  \\\n",
              "0                           300.0          -42.0            -37.0   \n",
              "1                           916.0       365243.0         365243.0   \n",
              "2                            59.0       365243.0         365243.0   \n",
              "3                          -152.0         -182.0           -177.0   \n",
              "4                             NaN            NaN              NaN   \n",
              "...                           ...            ...              ...   \n",
              "1670209                     362.0         -358.0           -351.0   \n",
              "1670210                   -1274.0        -1304.0          -1297.0   \n",
              "1670211                   -1187.0        -1187.0          -1181.0   \n",
              "1670212                    -825.0         -825.0           -817.0   \n",
              "1670213                     247.0         -443.0           -423.0   \n",
              "\n",
              "        NFLAG_INSURED_ON_APPROVAL  \n",
              "0                             0.0  \n",
              "1                             1.0  \n",
              "2                             1.0  \n",
              "3                             1.0  \n",
              "4                             NaN  \n",
              "...                           ...  \n",
              "1670209                       0.0  \n",
              "1670210                       0.0  \n",
              "1670211                       0.0  \n",
              "1670212                       1.0  \n",
              "1670213                       0.0  \n",
              "\n",
              "[1670214 rows x 37 columns]"
            ],
            "text/html": [
              "\n",
              "  <div id=\"df-5afc51b2-5006-48a6-ae17-f79f5362f453\">\n",
              "    <div class=\"colab-df-container\">\n",
              "      <div>\n",
              "<style scoped>\n",
              "    .dataframe tbody tr th:only-of-type {\n",
              "        vertical-align: middle;\n",
              "    }\n",
              "\n",
              "    .dataframe tbody tr th {\n",
              "        vertical-align: top;\n",
              "    }\n",
              "\n",
              "    .dataframe thead th {\n",
              "        text-align: right;\n",
              "    }\n",
              "</style>\n",
              "<table border=\"1\" class=\"dataframe\">\n",
              "  <thead>\n",
              "    <tr style=\"text-align: right;\">\n",
              "      <th></th>\n",
              "      <th>SK_ID_PREV</th>\n",
              "      <th>SK_ID_CURR</th>\n",
              "      <th>NAME_CONTRACT_TYPE</th>\n",
              "      <th>AMT_ANNUITY</th>\n",
              "      <th>AMT_APPLICATION</th>\n",
              "      <th>AMT_CREDIT</th>\n",
              "      <th>AMT_DOWN_PAYMENT</th>\n",
              "      <th>AMT_GOODS_PRICE</th>\n",
              "      <th>WEEKDAY_APPR_PROCESS_START</th>\n",
              "      <th>HOUR_APPR_PROCESS_START</th>\n",
              "      <th>...</th>\n",
              "      <th>NAME_SELLER_INDUSTRY</th>\n",
              "      <th>CNT_PAYMENT</th>\n",
              "      <th>NAME_YIELD_GROUP</th>\n",
              "      <th>PRODUCT_COMBINATION</th>\n",
              "      <th>DAYS_FIRST_DRAWING</th>\n",
              "      <th>DAYS_FIRST_DUE</th>\n",
              "      <th>DAYS_LAST_DUE_1ST_VERSION</th>\n",
              "      <th>DAYS_LAST_DUE</th>\n",
              "      <th>DAYS_TERMINATION</th>\n",
              "      <th>NFLAG_INSURED_ON_APPROVAL</th>\n",
              "    </tr>\n",
              "  </thead>\n",
              "  <tbody>\n",
              "    <tr>\n",
              "      <th>0</th>\n",
              "      <td>2030495</td>\n",
              "      <td>271877</td>\n",
              "      <td>Consumer loans</td>\n",
              "      <td>1730.430</td>\n",
              "      <td>17145.0</td>\n",
              "      <td>17145.0</td>\n",
              "      <td>0.0</td>\n",
              "      <td>17145.0</td>\n",
              "      <td>SATURDAY</td>\n",
              "      <td>15</td>\n",
              "      <td>...</td>\n",
              "      <td>Connectivity</td>\n",
              "      <td>12.0</td>\n",
              "      <td>middle</td>\n",
              "      <td>POS mobile with interest</td>\n",
              "      <td>365243.0</td>\n",
              "      <td>-42.0</td>\n",
              "      <td>300.0</td>\n",
              "      <td>-42.0</td>\n",
              "      <td>-37.0</td>\n",
              "      <td>0.0</td>\n",
              "    </tr>\n",
              "    <tr>\n",
              "      <th>1</th>\n",
              "      <td>2802425</td>\n",
              "      <td>108129</td>\n",
              "      <td>Cash loans</td>\n",
              "      <td>25188.615</td>\n",
              "      <td>607500.0</td>\n",
              "      <td>679671.0</td>\n",
              "      <td>NaN</td>\n",
              "      <td>607500.0</td>\n",
              "      <td>THURSDAY</td>\n",
              "      <td>11</td>\n",
              "      <td>...</td>\n",
              "      <td>XNA</td>\n",
              "      <td>36.0</td>\n",
              "      <td>low_action</td>\n",
              "      <td>Cash X-Sell: low</td>\n",
              "      <td>365243.0</td>\n",
              "      <td>-134.0</td>\n",
              "      <td>916.0</td>\n",
              "      <td>365243.0</td>\n",
              "      <td>365243.0</td>\n",
              "      <td>1.0</td>\n",
              "    </tr>\n",
              "    <tr>\n",
              "      <th>2</th>\n",
              "      <td>2523466</td>\n",
              "      <td>122040</td>\n",
              "      <td>Cash loans</td>\n",
              "      <td>15060.735</td>\n",
              "      <td>112500.0</td>\n",
              "      <td>136444.5</td>\n",
              "      <td>NaN</td>\n",
              "      <td>112500.0</td>\n",
              "      <td>TUESDAY</td>\n",
              "      <td>11</td>\n",
              "      <td>...</td>\n",
              "      <td>XNA</td>\n",
              "      <td>12.0</td>\n",
              "      <td>high</td>\n",
              "      <td>Cash X-Sell: high</td>\n",
              "      <td>365243.0</td>\n",
              "      <td>-271.0</td>\n",
              "      <td>59.0</td>\n",
              "      <td>365243.0</td>\n",
              "      <td>365243.0</td>\n",
              "      <td>1.0</td>\n",
              "    </tr>\n",
              "    <tr>\n",
              "      <th>3</th>\n",
              "      <td>2819243</td>\n",
              "      <td>176158</td>\n",
              "      <td>Cash loans</td>\n",
              "      <td>47041.335</td>\n",
              "      <td>450000.0</td>\n",
              "      <td>470790.0</td>\n",
              "      <td>NaN</td>\n",
              "      <td>450000.0</td>\n",
              "      <td>MONDAY</td>\n",
              "      <td>7</td>\n",
              "      <td>...</td>\n",
              "      <td>XNA</td>\n",
              "      <td>12.0</td>\n",
              "      <td>middle</td>\n",
              "      <td>Cash X-Sell: middle</td>\n",
              "      <td>365243.0</td>\n",
              "      <td>-482.0</td>\n",
              "      <td>-152.0</td>\n",
              "      <td>-182.0</td>\n",
              "      <td>-177.0</td>\n",
              "      <td>1.0</td>\n",
              "    </tr>\n",
              "    <tr>\n",
              "      <th>4</th>\n",
              "      <td>1784265</td>\n",
              "      <td>202054</td>\n",
              "      <td>Cash loans</td>\n",
              "      <td>31924.395</td>\n",
              "      <td>337500.0</td>\n",
              "      <td>404055.0</td>\n",
              "      <td>NaN</td>\n",
              "      <td>337500.0</td>\n",
              "      <td>THURSDAY</td>\n",
              "      <td>9</td>\n",
              "      <td>...</td>\n",
              "      <td>XNA</td>\n",
              "      <td>24.0</td>\n",
              "      <td>high</td>\n",
              "      <td>Cash Street: high</td>\n",
              "      <td>NaN</td>\n",
              "      <td>NaN</td>\n",
              "      <td>NaN</td>\n",
              "      <td>NaN</td>\n",
              "      <td>NaN</td>\n",
              "      <td>NaN</td>\n",
              "    </tr>\n",
              "    <tr>\n",
              "      <th>...</th>\n",
              "      <td>...</td>\n",
              "      <td>...</td>\n",
              "      <td>...</td>\n",
              "      <td>...</td>\n",
              "      <td>...</td>\n",
              "      <td>...</td>\n",
              "      <td>...</td>\n",
              "      <td>...</td>\n",
              "      <td>...</td>\n",
              "      <td>...</td>\n",
              "      <td>...</td>\n",
              "      <td>...</td>\n",
              "      <td>...</td>\n",
              "      <td>...</td>\n",
              "      <td>...</td>\n",
              "      <td>...</td>\n",
              "      <td>...</td>\n",
              "      <td>...</td>\n",
              "      <td>...</td>\n",
              "      <td>...</td>\n",
              "      <td>...</td>\n",
              "    </tr>\n",
              "    <tr>\n",
              "      <th>1670209</th>\n",
              "      <td>2300464</td>\n",
              "      <td>352015</td>\n",
              "      <td>Consumer loans</td>\n",
              "      <td>14704.290</td>\n",
              "      <td>267295.5</td>\n",
              "      <td>311400.0</td>\n",
              "      <td>0.0</td>\n",
              "      <td>267295.5</td>\n",
              "      <td>WEDNESDAY</td>\n",
              "      <td>12</td>\n",
              "      <td>...</td>\n",
              "      <td>Furniture</td>\n",
              "      <td>30.0</td>\n",
              "      <td>low_normal</td>\n",
              "      <td>POS industry with interest</td>\n",
              "      <td>365243.0</td>\n",
              "      <td>-508.0</td>\n",
              "      <td>362.0</td>\n",
              "      <td>-358.0</td>\n",
              "      <td>-351.0</td>\n",
              "      <td>0.0</td>\n",
              "    </tr>\n",
              "    <tr>\n",
              "      <th>1670210</th>\n",
              "      <td>2357031</td>\n",
              "      <td>334635</td>\n",
              "      <td>Consumer loans</td>\n",
              "      <td>6622.020</td>\n",
              "      <td>87750.0</td>\n",
              "      <td>64291.5</td>\n",
              "      <td>29250.0</td>\n",
              "      <td>87750.0</td>\n",
              "      <td>TUESDAY</td>\n",
              "      <td>15</td>\n",
              "      <td>...</td>\n",
              "      <td>Furniture</td>\n",
              "      <td>12.0</td>\n",
              "      <td>middle</td>\n",
              "      <td>POS industry with interest</td>\n",
              "      <td>365243.0</td>\n",
              "      <td>-1604.0</td>\n",
              "      <td>-1274.0</td>\n",
              "      <td>-1304.0</td>\n",
              "      <td>-1297.0</td>\n",
              "      <td>0.0</td>\n",
              "    </tr>\n",
              "    <tr>\n",
              "      <th>1670211</th>\n",
              "      <td>2659632</td>\n",
              "      <td>249544</td>\n",
              "      <td>Consumer loans</td>\n",
              "      <td>11520.855</td>\n",
              "      <td>105237.0</td>\n",
              "      <td>102523.5</td>\n",
              "      <td>10525.5</td>\n",
              "      <td>105237.0</td>\n",
              "      <td>MONDAY</td>\n",
              "      <td>12</td>\n",
              "      <td>...</td>\n",
              "      <td>Consumer electronics</td>\n",
              "      <td>10.0</td>\n",
              "      <td>low_normal</td>\n",
              "      <td>POS household with interest</td>\n",
              "      <td>365243.0</td>\n",
              "      <td>-1457.0</td>\n",
              "      <td>-1187.0</td>\n",
              "      <td>-1187.0</td>\n",
              "      <td>-1181.0</td>\n",
              "      <td>0.0</td>\n",
              "    </tr>\n",
              "    <tr>\n",
              "      <th>1670212</th>\n",
              "      <td>2785582</td>\n",
              "      <td>400317</td>\n",
              "      <td>Cash loans</td>\n",
              "      <td>18821.520</td>\n",
              "      <td>180000.0</td>\n",
              "      <td>191880.0</td>\n",
              "      <td>NaN</td>\n",
              "      <td>180000.0</td>\n",
              "      <td>WEDNESDAY</td>\n",
              "      <td>9</td>\n",
              "      <td>...</td>\n",
              "      <td>XNA</td>\n",
              "      <td>12.0</td>\n",
              "      <td>low_normal</td>\n",
              "      <td>Cash X-Sell: low</td>\n",
              "      <td>365243.0</td>\n",
              "      <td>-1155.0</td>\n",
              "      <td>-825.0</td>\n",
              "      <td>-825.0</td>\n",
              "      <td>-817.0</td>\n",
              "      <td>1.0</td>\n",
              "    </tr>\n",
              "    <tr>\n",
              "      <th>1670213</th>\n",
              "      <td>2418762</td>\n",
              "      <td>261212</td>\n",
              "      <td>Cash loans</td>\n",
              "      <td>16431.300</td>\n",
              "      <td>360000.0</td>\n",
              "      <td>360000.0</td>\n",
              "      <td>NaN</td>\n",
              "      <td>360000.0</td>\n",
              "      <td>SUNDAY</td>\n",
              "      <td>10</td>\n",
              "      <td>...</td>\n",
              "      <td>XNA</td>\n",
              "      <td>48.0</td>\n",
              "      <td>middle</td>\n",
              "      <td>Cash X-Sell: middle</td>\n",
              "      <td>365243.0</td>\n",
              "      <td>-1163.0</td>\n",
              "      <td>247.0</td>\n",
              "      <td>-443.0</td>\n",
              "      <td>-423.0</td>\n",
              "      <td>0.0</td>\n",
              "    </tr>\n",
              "  </tbody>\n",
              "</table>\n",
              "<p>1670214 rows × 37 columns</p>\n",
              "</div>\n",
              "      <button class=\"colab-df-convert\" onclick=\"convertToInteractive('df-5afc51b2-5006-48a6-ae17-f79f5362f453')\"\n",
              "              title=\"Convert this dataframe to an interactive table.\"\n",
              "              style=\"display:none;\">\n",
              "        \n",
              "  <svg xmlns=\"http://www.w3.org/2000/svg\" height=\"24px\"viewBox=\"0 0 24 24\"\n",
              "       width=\"24px\">\n",
              "    <path d=\"M0 0h24v24H0V0z\" fill=\"none\"/>\n",
              "    <path d=\"M18.56 5.44l.94 2.06.94-2.06 2.06-.94-2.06-.94-.94-2.06-.94 2.06-2.06.94zm-11 1L8.5 8.5l.94-2.06 2.06-.94-2.06-.94L8.5 2.5l-.94 2.06-2.06.94zm10 10l.94 2.06.94-2.06 2.06-.94-2.06-.94-.94-2.06-.94 2.06-2.06.94z\"/><path d=\"M17.41 7.96l-1.37-1.37c-.4-.4-.92-.59-1.43-.59-.52 0-1.04.2-1.43.59L10.3 9.45l-7.72 7.72c-.78.78-.78 2.05 0 2.83L4 21.41c.39.39.9.59 1.41.59.51 0 1.02-.2 1.41-.59l7.78-7.78 2.81-2.81c.8-.78.8-2.07 0-2.86zM5.41 20L4 18.59l7.72-7.72 1.47 1.35L5.41 20z\"/>\n",
              "  </svg>\n",
              "      </button>\n",
              "      \n",
              "  <style>\n",
              "    .colab-df-container {\n",
              "      display:flex;\n",
              "      flex-wrap:wrap;\n",
              "      gap: 12px;\n",
              "    }\n",
              "\n",
              "    .colab-df-convert {\n",
              "      background-color: #E8F0FE;\n",
              "      border: none;\n",
              "      border-radius: 50%;\n",
              "      cursor: pointer;\n",
              "      display: none;\n",
              "      fill: #1967D2;\n",
              "      height: 32px;\n",
              "      padding: 0 0 0 0;\n",
              "      width: 32px;\n",
              "    }\n",
              "\n",
              "    .colab-df-convert:hover {\n",
              "      background-color: #E2EBFA;\n",
              "      box-shadow: 0px 1px 2px rgba(60, 64, 67, 0.3), 0px 1px 3px 1px rgba(60, 64, 67, 0.15);\n",
              "      fill: #174EA6;\n",
              "    }\n",
              "\n",
              "    [theme=dark] .colab-df-convert {\n",
              "      background-color: #3B4455;\n",
              "      fill: #D2E3FC;\n",
              "    }\n",
              "\n",
              "    [theme=dark] .colab-df-convert:hover {\n",
              "      background-color: #434B5C;\n",
              "      box-shadow: 0px 1px 3px 1px rgba(0, 0, 0, 0.15);\n",
              "      filter: drop-shadow(0px 1px 2px rgba(0, 0, 0, 0.3));\n",
              "      fill: #FFFFFF;\n",
              "    }\n",
              "  </style>\n",
              "\n",
              "      <script>\n",
              "        const buttonEl =\n",
              "          document.querySelector('#df-5afc51b2-5006-48a6-ae17-f79f5362f453 button.colab-df-convert');\n",
              "        buttonEl.style.display =\n",
              "          google.colab.kernel.accessAllowed ? 'block' : 'none';\n",
              "\n",
              "        async function convertToInteractive(key) {\n",
              "          const element = document.querySelector('#df-5afc51b2-5006-48a6-ae17-f79f5362f453');\n",
              "          const dataTable =\n",
              "            await google.colab.kernel.invokeFunction('convertToInteractive',\n",
              "                                                     [key], {});\n",
              "          if (!dataTable) return;\n",
              "\n",
              "          const docLinkHtml = 'Like what you see? Visit the ' +\n",
              "            '<a target=\"_blank\" href=https://colab.research.google.com/notebooks/data_table.ipynb>data table notebook</a>'\n",
              "            + ' to learn more about interactive tables.';\n",
              "          element.innerHTML = '';\n",
              "          dataTable['output_type'] = 'display_data';\n",
              "          await google.colab.output.renderOutput(dataTable, element);\n",
              "          const docLink = document.createElement('div');\n",
              "          docLink.innerHTML = docLinkHtml;\n",
              "          element.appendChild(docLink);\n",
              "        }\n",
              "      </script>\n",
              "    </div>\n",
              "  </div>\n",
              "  "
            ]
          },
          "metadata": {},
          "execution_count": 3
        }
      ]
    },
    {
      "cell_type": "code",
      "source": [
        "df_preapp.info()"
      ],
      "metadata": {
        "colab": {
          "base_uri": "https://localhost:8080/"
        },
        "id": "-BfJhOqHh99d",
        "outputId": "6720d535-2ed0-48d7-b7eb-8bc3389afed9"
      },
      "execution_count": 3,
      "outputs": [
        {
          "output_type": "stream",
          "name": "stdout",
          "text": [
            "<class 'pandas.core.frame.DataFrame'>\n",
            "RangeIndex: 1670214 entries, 0 to 1670213\n",
            "Data columns (total 37 columns):\n",
            " #   Column                       Non-Null Count    Dtype  \n",
            "---  ------                       --------------    -----  \n",
            " 0   SK_ID_PREV                   1670214 non-null  int64  \n",
            " 1   SK_ID_CURR                   1670214 non-null  int64  \n",
            " 2   NAME_CONTRACT_TYPE           1670214 non-null  object \n",
            " 3   AMT_ANNUITY                  1297979 non-null  float64\n",
            " 4   AMT_APPLICATION              1670214 non-null  float64\n",
            " 5   AMT_CREDIT                   1670213 non-null  float64\n",
            " 6   AMT_DOWN_PAYMENT             774370 non-null   float64\n",
            " 7   AMT_GOODS_PRICE              1284699 non-null  float64\n",
            " 8   WEEKDAY_APPR_PROCESS_START   1670214 non-null  object \n",
            " 9   HOUR_APPR_PROCESS_START      1670214 non-null  int64  \n",
            " 10  FLAG_LAST_APPL_PER_CONTRACT  1670214 non-null  object \n",
            " 11  NFLAG_LAST_APPL_IN_DAY       1670214 non-null  int64  \n",
            " 12  RATE_DOWN_PAYMENT            774370 non-null   float64\n",
            " 13  RATE_INTEREST_PRIMARY        5951 non-null     float64\n",
            " 14  RATE_INTEREST_PRIVILEGED     5951 non-null     float64\n",
            " 15  NAME_CASH_LOAN_PURPOSE       1670214 non-null  object \n",
            " 16  NAME_CONTRACT_STATUS         1670214 non-null  object \n",
            " 17  DAYS_DECISION                1670214 non-null  int64  \n",
            " 18  NAME_PAYMENT_TYPE            1670214 non-null  object \n",
            " 19  CODE_REJECT_REASON           1670214 non-null  object \n",
            " 20  NAME_TYPE_SUITE              849809 non-null   object \n",
            " 21  NAME_CLIENT_TYPE             1670214 non-null  object \n",
            " 22  NAME_GOODS_CATEGORY          1670214 non-null  object \n",
            " 23  NAME_PORTFOLIO               1670214 non-null  object \n",
            " 24  NAME_PRODUCT_TYPE            1670214 non-null  object \n",
            " 25  CHANNEL_TYPE                 1670214 non-null  object \n",
            " 26  SELLERPLACE_AREA             1670214 non-null  int64  \n",
            " 27  NAME_SELLER_INDUSTRY         1670214 non-null  object \n",
            " 28  CNT_PAYMENT                  1297984 non-null  float64\n",
            " 29  NAME_YIELD_GROUP             1670214 non-null  object \n",
            " 30  PRODUCT_COMBINATION          1669868 non-null  object \n",
            " 31  DAYS_FIRST_DRAWING           997149 non-null   float64\n",
            " 32  DAYS_FIRST_DUE               997149 non-null   float64\n",
            " 33  DAYS_LAST_DUE_1ST_VERSION    997149 non-null   float64\n",
            " 34  DAYS_LAST_DUE                997149 non-null   float64\n",
            " 35  DAYS_TERMINATION             997149 non-null   float64\n",
            " 36  NFLAG_INSURED_ON_APPROVAL    997149 non-null   float64\n",
            "dtypes: float64(15), int64(6), object(16)\n",
            "memory usage: 471.5+ MB\n"
          ]
        }
      ]
    },
    {
      "cell_type": "markdown",
      "source": [
        "SK_ID_PREV = ID of previous credit in Home credit related to loan in our sample. (One loan in our sample can have 0,1,2 or more previous loan applications in Home Credit, previous application could, but not necessarily have to lead to credit) \n",
        "\n",
        "SK_ID_CURR = ID of loan in our sample\n",
        "\n",
        "NAME_CONTRACT_TYPE = Contract product type (Cash loan, consumer loan [POS] ,...) of the previous application\n",
        "\n",
        "AMT_ANNUITY = Annuity of previous application\n",
        "\n",
        "AMT_APPLICATION = For how much credit did client ask on the previous application\n",
        "\n",
        "AMT_CREDIT = Final credit amount on the previous application. This differs from AMT_APPLICATION in a way that the AMT_APPLICATION is the amount for which the client initially applied for, but during our approval process he could have received different amount - AMT_CREDIT\n",
        "\n",
        "AMT_DOWN_PAYMENT = Down payment on the previous application\n",
        "\n",
        "AMT_GOODS_PRICE = Goods price of good that client asked for (if applicable) on the previous application\n",
        "\n",
        "WEEKDAY_APPR_PROCESS_START = On which day of the week did the client apply for previous application\n",
        "\n",
        "HOUR_APPR_PROCESS_START = Approximately at what day hour did the client apply for the previous application\n",
        "\n",
        "FLAG_LAST_APPL_PER_CONTRACT = Flag if it was last application for the previous contract. Sometimes by mistake of client or our clerk there could be more applications for one single contract\n",
        "\n",
        "NFLAG_LAST_APPL_IN_DAY = Flag if the application was the last application per day of the client. Sometimes clients apply for more applications a day. Rarely it could also be error in our system that one application is in the database twice\n",
        "\n",
        "NFLAG_MICRO_CASH = Flag Micro finance loan\n",
        "\n",
        "RATE_DOWN_PAYMENT = Down payment rate normalized on previous credit \n",
        "\n",
        "RATE_INTEREST_PRIMARY = Interest rate normalized on previous credit\n",
        "\n",
        "RATE_INTEREST_PRIVILEGED = Interest rate normalized on previous credit\n",
        "\n",
        "NAME_CASH_LOAN_PURPOSE = Purpose of the cash loan\n",
        "\n",
        "NAME_CONTRACT_STATUS = Contract status (approved, cancelled, ...) of previous application\n",
        "\n",
        "DAYS_DECISION = Relative to current application when was the decision about previous application made\n",
        "\n",
        "NAME_PAYMENT_TYPE = Payment method that client chose to pay for the previous application\n",
        "\n",
        "CODE_REJECT_REASON = Why was the previous application rejected\n",
        "\n",
        "NAME_TYPE_SUITE = Who accompanied client when applying for the previous application\n",
        "\n",
        "NAME_CLIENT_TYPE = Was the client old or new client when applying for the previous application\n",
        "\n",
        "NAME_GOODS_CATEGORY = What kind of goods did the client apply for in the previous application\n",
        "\n",
        "NAME_PORTFOLIO = Was the previous application for CASH, POS, CAR, …\n",
        "\n",
        "NAME_PRODUCT_TYPE = Was the previous application x-sell o walk-in\n",
        "\n",
        "CHANNEL_TYPE = Through which channel we acquired the client on the previous application\n",
        "\n",
        "SELLERPLACE_AREA = Selling area of seller place of the previous application\n",
        "\n",
        "NAME_SELLER_INDUSTRY = The industry of the seller\n",
        "\n",
        "CNT_PAYMENT = Term of previous credit at application of the previous application\n",
        "\n",
        "NAME_YIELD_GROUP = Grouped interest rate into small medium and high of the previous application\n",
        "\n",
        "PRODUCT_COMBINATION = Detailed product combination of the previous application\n",
        "\n",
        "DAYS_FIRST_DRAWING = Relative to application date of current application when was the first disbursement of the previous application\n",
        "\n",
        "DAYS_FIRST_DUE = Relative to application date of current application when was the first due supposed to be of the previous application\n",
        "\n",
        "DAYS_LAST_DUE_1ST_VERSION = Relative to application date of current application when was the first due of the previous application\n",
        "\n",
        "DAYS_LAST_DUE = Relative to application date of current application when was the last due date of the previous application\n",
        "\n",
        "DAYS_TERMINATION = Relative to application date of current application when was the expected termination of the previous application\n",
        "\n",
        "NFLAG_INSURED_ON_APPROVAL = Did the client requested insurance during the previous application\n",
        "\n",
        "\n",
        "\n"
      ],
      "metadata": {
        "id": "fJszHjl_WdVO"
      }
    },
    {
      "cell_type": "code",
      "source": [
        "df_preapp.describe()"
      ],
      "metadata": {
        "colab": {
          "base_uri": "https://localhost:8080/",
          "height": 394
        },
        "id": "yrEuCtNeiMXa",
        "outputId": "73e7027d-082a-4652-9887-106ef4eada5a"
      },
      "execution_count": 4,
      "outputs": [
        {
          "output_type": "execute_result",
          "data": {
            "text/plain": [
              "         SK_ID_PREV    SK_ID_CURR   AMT_ANNUITY  AMT_APPLICATION  \\\n",
              "count  1.670214e+06  1.670214e+06  1.297979e+06     1.670214e+06   \n",
              "mean   1.923089e+06  2.783572e+05  1.595512e+04     1.752339e+05   \n",
              "std    5.325980e+05  1.028148e+05  1.478214e+04     2.927798e+05   \n",
              "min    1.000001e+06  1.000010e+05  0.000000e+00     0.000000e+00   \n",
              "25%    1.461857e+06  1.893290e+05  6.321780e+03     1.872000e+04   \n",
              "50%    1.923110e+06  2.787145e+05  1.125000e+04     7.104600e+04   \n",
              "75%    2.384280e+06  3.675140e+05  2.065842e+04     1.803600e+05   \n",
              "max    2.845382e+06  4.562550e+05  4.180581e+05     6.905160e+06   \n",
              "\n",
              "         AMT_CREDIT  AMT_DOWN_PAYMENT  AMT_GOODS_PRICE  \\\n",
              "count  1.670213e+06      7.743700e+05     1.284699e+06   \n",
              "mean   1.961140e+05      6.697402e+03     2.278473e+05   \n",
              "std    3.185746e+05      2.092150e+04     3.153966e+05   \n",
              "min    0.000000e+00     -9.000000e-01     0.000000e+00   \n",
              "25%    2.416050e+04      0.000000e+00     5.084100e+04   \n",
              "50%    8.054100e+04      1.638000e+03     1.123200e+05   \n",
              "75%    2.164185e+05      7.740000e+03     2.340000e+05   \n",
              "max    6.905160e+06      3.060045e+06     6.905160e+06   \n",
              "\n",
              "       HOUR_APPR_PROCESS_START  NFLAG_LAST_APPL_IN_DAY  RATE_DOWN_PAYMENT  \\\n",
              "count             1.670214e+06            1.670214e+06      774370.000000   \n",
              "mean              1.248418e+01            9.964675e-01           0.079637   \n",
              "std               3.334028e+00            5.932963e-02           0.107823   \n",
              "min               0.000000e+00            0.000000e+00          -0.000015   \n",
              "25%               1.000000e+01            1.000000e+00           0.000000   \n",
              "50%               1.200000e+01            1.000000e+00           0.051605   \n",
              "75%               1.500000e+01            1.000000e+00           0.108909   \n",
              "max               2.300000e+01            1.000000e+00           1.000000   \n",
              "\n",
              "       ...  RATE_INTEREST_PRIVILEGED  DAYS_DECISION  SELLERPLACE_AREA  \\\n",
              "count  ...               5951.000000   1.670214e+06      1.670214e+06   \n",
              "mean   ...                  0.773503  -8.806797e+02      3.139511e+02   \n",
              "std    ...                  0.100879   7.790997e+02      7.127443e+03   \n",
              "min    ...                  0.373150  -2.922000e+03     -1.000000e+00   \n",
              "25%    ...                  0.715645  -1.300000e+03     -1.000000e+00   \n",
              "50%    ...                  0.835095  -5.810000e+02      3.000000e+00   \n",
              "75%    ...                  0.852537  -2.800000e+02      8.200000e+01   \n",
              "max    ...                  1.000000  -1.000000e+00      4.000000e+06   \n",
              "\n",
              "        CNT_PAYMENT  DAYS_FIRST_DRAWING  DAYS_FIRST_DUE  \\\n",
              "count  1.297984e+06       997149.000000   997149.000000   \n",
              "mean   1.605408e+01       342209.855039    13826.269337   \n",
              "std    1.456729e+01        88916.115833    72444.869708   \n",
              "min    0.000000e+00        -2922.000000    -2892.000000   \n",
              "25%    6.000000e+00       365243.000000    -1628.000000   \n",
              "50%    1.200000e+01       365243.000000     -831.000000   \n",
              "75%    2.400000e+01       365243.000000     -411.000000   \n",
              "max    8.400000e+01       365243.000000   365243.000000   \n",
              "\n",
              "       DAYS_LAST_DUE_1ST_VERSION  DAYS_LAST_DUE  DAYS_TERMINATION  \\\n",
              "count              997149.000000  997149.000000     997149.000000   \n",
              "mean                33767.774054   76582.403064      81992.343838   \n",
              "std                106857.034789  149647.415123     153303.516729   \n",
              "min                 -2801.000000   -2889.000000      -2874.000000   \n",
              "25%                 -1242.000000   -1314.000000      -1270.000000   \n",
              "50%                  -361.000000    -537.000000       -499.000000   \n",
              "75%                   129.000000     -74.000000        -44.000000   \n",
              "max                365243.000000  365243.000000     365243.000000   \n",
              "\n",
              "       NFLAG_INSURED_ON_APPROVAL  \n",
              "count              997149.000000  \n",
              "mean                    0.332570  \n",
              "std                     0.471134  \n",
              "min                     0.000000  \n",
              "25%                     0.000000  \n",
              "50%                     0.000000  \n",
              "75%                     1.000000  \n",
              "max                     1.000000  \n",
              "\n",
              "[8 rows x 21 columns]"
            ],
            "text/html": [
              "\n",
              "  <div id=\"df-6a45c663-903c-4da5-a93b-0224e6bd584b\">\n",
              "    <div class=\"colab-df-container\">\n",
              "      <div>\n",
              "<style scoped>\n",
              "    .dataframe tbody tr th:only-of-type {\n",
              "        vertical-align: middle;\n",
              "    }\n",
              "\n",
              "    .dataframe tbody tr th {\n",
              "        vertical-align: top;\n",
              "    }\n",
              "\n",
              "    .dataframe thead th {\n",
              "        text-align: right;\n",
              "    }\n",
              "</style>\n",
              "<table border=\"1\" class=\"dataframe\">\n",
              "  <thead>\n",
              "    <tr style=\"text-align: right;\">\n",
              "      <th></th>\n",
              "      <th>SK_ID_PREV</th>\n",
              "      <th>SK_ID_CURR</th>\n",
              "      <th>AMT_ANNUITY</th>\n",
              "      <th>AMT_APPLICATION</th>\n",
              "      <th>AMT_CREDIT</th>\n",
              "      <th>AMT_DOWN_PAYMENT</th>\n",
              "      <th>AMT_GOODS_PRICE</th>\n",
              "      <th>HOUR_APPR_PROCESS_START</th>\n",
              "      <th>NFLAG_LAST_APPL_IN_DAY</th>\n",
              "      <th>RATE_DOWN_PAYMENT</th>\n",
              "      <th>...</th>\n",
              "      <th>RATE_INTEREST_PRIVILEGED</th>\n",
              "      <th>DAYS_DECISION</th>\n",
              "      <th>SELLERPLACE_AREA</th>\n",
              "      <th>CNT_PAYMENT</th>\n",
              "      <th>DAYS_FIRST_DRAWING</th>\n",
              "      <th>DAYS_FIRST_DUE</th>\n",
              "      <th>DAYS_LAST_DUE_1ST_VERSION</th>\n",
              "      <th>DAYS_LAST_DUE</th>\n",
              "      <th>DAYS_TERMINATION</th>\n",
              "      <th>NFLAG_INSURED_ON_APPROVAL</th>\n",
              "    </tr>\n",
              "  </thead>\n",
              "  <tbody>\n",
              "    <tr>\n",
              "      <th>count</th>\n",
              "      <td>1.670214e+06</td>\n",
              "      <td>1.670214e+06</td>\n",
              "      <td>1.297979e+06</td>\n",
              "      <td>1.670214e+06</td>\n",
              "      <td>1.670213e+06</td>\n",
              "      <td>7.743700e+05</td>\n",
              "      <td>1.284699e+06</td>\n",
              "      <td>1.670214e+06</td>\n",
              "      <td>1.670214e+06</td>\n",
              "      <td>774370.000000</td>\n",
              "      <td>...</td>\n",
              "      <td>5951.000000</td>\n",
              "      <td>1.670214e+06</td>\n",
              "      <td>1.670214e+06</td>\n",
              "      <td>1.297984e+06</td>\n",
              "      <td>997149.000000</td>\n",
              "      <td>997149.000000</td>\n",
              "      <td>997149.000000</td>\n",
              "      <td>997149.000000</td>\n",
              "      <td>997149.000000</td>\n",
              "      <td>997149.000000</td>\n",
              "    </tr>\n",
              "    <tr>\n",
              "      <th>mean</th>\n",
              "      <td>1.923089e+06</td>\n",
              "      <td>2.783572e+05</td>\n",
              "      <td>1.595512e+04</td>\n",
              "      <td>1.752339e+05</td>\n",
              "      <td>1.961140e+05</td>\n",
              "      <td>6.697402e+03</td>\n",
              "      <td>2.278473e+05</td>\n",
              "      <td>1.248418e+01</td>\n",
              "      <td>9.964675e-01</td>\n",
              "      <td>0.079637</td>\n",
              "      <td>...</td>\n",
              "      <td>0.773503</td>\n",
              "      <td>-8.806797e+02</td>\n",
              "      <td>3.139511e+02</td>\n",
              "      <td>1.605408e+01</td>\n",
              "      <td>342209.855039</td>\n",
              "      <td>13826.269337</td>\n",
              "      <td>33767.774054</td>\n",
              "      <td>76582.403064</td>\n",
              "      <td>81992.343838</td>\n",
              "      <td>0.332570</td>\n",
              "    </tr>\n",
              "    <tr>\n",
              "      <th>std</th>\n",
              "      <td>5.325980e+05</td>\n",
              "      <td>1.028148e+05</td>\n",
              "      <td>1.478214e+04</td>\n",
              "      <td>2.927798e+05</td>\n",
              "      <td>3.185746e+05</td>\n",
              "      <td>2.092150e+04</td>\n",
              "      <td>3.153966e+05</td>\n",
              "      <td>3.334028e+00</td>\n",
              "      <td>5.932963e-02</td>\n",
              "      <td>0.107823</td>\n",
              "      <td>...</td>\n",
              "      <td>0.100879</td>\n",
              "      <td>7.790997e+02</td>\n",
              "      <td>7.127443e+03</td>\n",
              "      <td>1.456729e+01</td>\n",
              "      <td>88916.115833</td>\n",
              "      <td>72444.869708</td>\n",
              "      <td>106857.034789</td>\n",
              "      <td>149647.415123</td>\n",
              "      <td>153303.516729</td>\n",
              "      <td>0.471134</td>\n",
              "    </tr>\n",
              "    <tr>\n",
              "      <th>min</th>\n",
              "      <td>1.000001e+06</td>\n",
              "      <td>1.000010e+05</td>\n",
              "      <td>0.000000e+00</td>\n",
              "      <td>0.000000e+00</td>\n",
              "      <td>0.000000e+00</td>\n",
              "      <td>-9.000000e-01</td>\n",
              "      <td>0.000000e+00</td>\n",
              "      <td>0.000000e+00</td>\n",
              "      <td>0.000000e+00</td>\n",
              "      <td>-0.000015</td>\n",
              "      <td>...</td>\n",
              "      <td>0.373150</td>\n",
              "      <td>-2.922000e+03</td>\n",
              "      <td>-1.000000e+00</td>\n",
              "      <td>0.000000e+00</td>\n",
              "      <td>-2922.000000</td>\n",
              "      <td>-2892.000000</td>\n",
              "      <td>-2801.000000</td>\n",
              "      <td>-2889.000000</td>\n",
              "      <td>-2874.000000</td>\n",
              "      <td>0.000000</td>\n",
              "    </tr>\n",
              "    <tr>\n",
              "      <th>25%</th>\n",
              "      <td>1.461857e+06</td>\n",
              "      <td>1.893290e+05</td>\n",
              "      <td>6.321780e+03</td>\n",
              "      <td>1.872000e+04</td>\n",
              "      <td>2.416050e+04</td>\n",
              "      <td>0.000000e+00</td>\n",
              "      <td>5.084100e+04</td>\n",
              "      <td>1.000000e+01</td>\n",
              "      <td>1.000000e+00</td>\n",
              "      <td>0.000000</td>\n",
              "      <td>...</td>\n",
              "      <td>0.715645</td>\n",
              "      <td>-1.300000e+03</td>\n",
              "      <td>-1.000000e+00</td>\n",
              "      <td>6.000000e+00</td>\n",
              "      <td>365243.000000</td>\n",
              "      <td>-1628.000000</td>\n",
              "      <td>-1242.000000</td>\n",
              "      <td>-1314.000000</td>\n",
              "      <td>-1270.000000</td>\n",
              "      <td>0.000000</td>\n",
              "    </tr>\n",
              "    <tr>\n",
              "      <th>50%</th>\n",
              "      <td>1.923110e+06</td>\n",
              "      <td>2.787145e+05</td>\n",
              "      <td>1.125000e+04</td>\n",
              "      <td>7.104600e+04</td>\n",
              "      <td>8.054100e+04</td>\n",
              "      <td>1.638000e+03</td>\n",
              "      <td>1.123200e+05</td>\n",
              "      <td>1.200000e+01</td>\n",
              "      <td>1.000000e+00</td>\n",
              "      <td>0.051605</td>\n",
              "      <td>...</td>\n",
              "      <td>0.835095</td>\n",
              "      <td>-5.810000e+02</td>\n",
              "      <td>3.000000e+00</td>\n",
              "      <td>1.200000e+01</td>\n",
              "      <td>365243.000000</td>\n",
              "      <td>-831.000000</td>\n",
              "      <td>-361.000000</td>\n",
              "      <td>-537.000000</td>\n",
              "      <td>-499.000000</td>\n",
              "      <td>0.000000</td>\n",
              "    </tr>\n",
              "    <tr>\n",
              "      <th>75%</th>\n",
              "      <td>2.384280e+06</td>\n",
              "      <td>3.675140e+05</td>\n",
              "      <td>2.065842e+04</td>\n",
              "      <td>1.803600e+05</td>\n",
              "      <td>2.164185e+05</td>\n",
              "      <td>7.740000e+03</td>\n",
              "      <td>2.340000e+05</td>\n",
              "      <td>1.500000e+01</td>\n",
              "      <td>1.000000e+00</td>\n",
              "      <td>0.108909</td>\n",
              "      <td>...</td>\n",
              "      <td>0.852537</td>\n",
              "      <td>-2.800000e+02</td>\n",
              "      <td>8.200000e+01</td>\n",
              "      <td>2.400000e+01</td>\n",
              "      <td>365243.000000</td>\n",
              "      <td>-411.000000</td>\n",
              "      <td>129.000000</td>\n",
              "      <td>-74.000000</td>\n",
              "      <td>-44.000000</td>\n",
              "      <td>1.000000</td>\n",
              "    </tr>\n",
              "    <tr>\n",
              "      <th>max</th>\n",
              "      <td>2.845382e+06</td>\n",
              "      <td>4.562550e+05</td>\n",
              "      <td>4.180581e+05</td>\n",
              "      <td>6.905160e+06</td>\n",
              "      <td>6.905160e+06</td>\n",
              "      <td>3.060045e+06</td>\n",
              "      <td>6.905160e+06</td>\n",
              "      <td>2.300000e+01</td>\n",
              "      <td>1.000000e+00</td>\n",
              "      <td>1.000000</td>\n",
              "      <td>...</td>\n",
              "      <td>1.000000</td>\n",
              "      <td>-1.000000e+00</td>\n",
              "      <td>4.000000e+06</td>\n",
              "      <td>8.400000e+01</td>\n",
              "      <td>365243.000000</td>\n",
              "      <td>365243.000000</td>\n",
              "      <td>365243.000000</td>\n",
              "      <td>365243.000000</td>\n",
              "      <td>365243.000000</td>\n",
              "      <td>1.000000</td>\n",
              "    </tr>\n",
              "  </tbody>\n",
              "</table>\n",
              "<p>8 rows × 21 columns</p>\n",
              "</div>\n",
              "      <button class=\"colab-df-convert\" onclick=\"convertToInteractive('df-6a45c663-903c-4da5-a93b-0224e6bd584b')\"\n",
              "              title=\"Convert this dataframe to an interactive table.\"\n",
              "              style=\"display:none;\">\n",
              "        \n",
              "  <svg xmlns=\"http://www.w3.org/2000/svg\" height=\"24px\"viewBox=\"0 0 24 24\"\n",
              "       width=\"24px\">\n",
              "    <path d=\"M0 0h24v24H0V0z\" fill=\"none\"/>\n",
              "    <path d=\"M18.56 5.44l.94 2.06.94-2.06 2.06-.94-2.06-.94-.94-2.06-.94 2.06-2.06.94zm-11 1L8.5 8.5l.94-2.06 2.06-.94-2.06-.94L8.5 2.5l-.94 2.06-2.06.94zm10 10l.94 2.06.94-2.06 2.06-.94-2.06-.94-.94-2.06-.94 2.06-2.06.94z\"/><path d=\"M17.41 7.96l-1.37-1.37c-.4-.4-.92-.59-1.43-.59-.52 0-1.04.2-1.43.59L10.3 9.45l-7.72 7.72c-.78.78-.78 2.05 0 2.83L4 21.41c.39.39.9.59 1.41.59.51 0 1.02-.2 1.41-.59l7.78-7.78 2.81-2.81c.8-.78.8-2.07 0-2.86zM5.41 20L4 18.59l7.72-7.72 1.47 1.35L5.41 20z\"/>\n",
              "  </svg>\n",
              "      </button>\n",
              "      \n",
              "  <style>\n",
              "    .colab-df-container {\n",
              "      display:flex;\n",
              "      flex-wrap:wrap;\n",
              "      gap: 12px;\n",
              "    }\n",
              "\n",
              "    .colab-df-convert {\n",
              "      background-color: #E8F0FE;\n",
              "      border: none;\n",
              "      border-radius: 50%;\n",
              "      cursor: pointer;\n",
              "      display: none;\n",
              "      fill: #1967D2;\n",
              "      height: 32px;\n",
              "      padding: 0 0 0 0;\n",
              "      width: 32px;\n",
              "    }\n",
              "\n",
              "    .colab-df-convert:hover {\n",
              "      background-color: #E2EBFA;\n",
              "      box-shadow: 0px 1px 2px rgba(60, 64, 67, 0.3), 0px 1px 3px 1px rgba(60, 64, 67, 0.15);\n",
              "      fill: #174EA6;\n",
              "    }\n",
              "\n",
              "    [theme=dark] .colab-df-convert {\n",
              "      background-color: #3B4455;\n",
              "      fill: #D2E3FC;\n",
              "    }\n",
              "\n",
              "    [theme=dark] .colab-df-convert:hover {\n",
              "      background-color: #434B5C;\n",
              "      box-shadow: 0px 1px 3px 1px rgba(0, 0, 0, 0.15);\n",
              "      filter: drop-shadow(0px 1px 2px rgba(0, 0, 0, 0.3));\n",
              "      fill: #FFFFFF;\n",
              "    }\n",
              "  </style>\n",
              "\n",
              "      <script>\n",
              "        const buttonEl =\n",
              "          document.querySelector('#df-6a45c663-903c-4da5-a93b-0224e6bd584b button.colab-df-convert');\n",
              "        buttonEl.style.display =\n",
              "          google.colab.kernel.accessAllowed ? 'block' : 'none';\n",
              "\n",
              "        async function convertToInteractive(key) {\n",
              "          const element = document.querySelector('#df-6a45c663-903c-4da5-a93b-0224e6bd584b');\n",
              "          const dataTable =\n",
              "            await google.colab.kernel.invokeFunction('convertToInteractive',\n",
              "                                                     [key], {});\n",
              "          if (!dataTable) return;\n",
              "\n",
              "          const docLinkHtml = 'Like what you see? Visit the ' +\n",
              "            '<a target=\"_blank\" href=https://colab.research.google.com/notebooks/data_table.ipynb>data table notebook</a>'\n",
              "            + ' to learn more about interactive tables.';\n",
              "          element.innerHTML = '';\n",
              "          dataTable['output_type'] = 'display_data';\n",
              "          await google.colab.output.renderOutput(dataTable, element);\n",
              "          const docLink = document.createElement('div');\n",
              "          docLink.innerHTML = docLinkHtml;\n",
              "          element.appendChild(docLink);\n",
              "        }\n",
              "      </script>\n",
              "    </div>\n",
              "  </div>\n",
              "  "
            ]
          },
          "metadata": {},
          "execution_count": 4
        }
      ]
    },
    {
      "cell_type": "code",
      "source": [
        "df_preapp.shape"
      ],
      "metadata": {
        "colab": {
          "base_uri": "https://localhost:8080/"
        },
        "id": "QemwQ0NKOfb2",
        "outputId": "a986cacf-16a9-4917-a797-a94d8a71d87c"
      },
      "execution_count": 8,
      "outputs": [
        {
          "output_type": "execute_result",
          "data": {
            "text/plain": [
              "(1670214, 37)"
            ]
          },
          "metadata": {},
          "execution_count": 8
        }
      ]
    },
    {
      "cell_type": "code",
      "source": [
        "df_preapp.nunique()"
      ],
      "metadata": {
        "colab": {
          "base_uri": "https://localhost:8080/"
        },
        "id": "fWqNm7K7kXPO",
        "outputId": "93b077db-9abb-441a-8ff1-e0679144ad23"
      },
      "execution_count": 5,
      "outputs": [
        {
          "output_type": "execute_result",
          "data": {
            "text/plain": [
              "SK_ID_PREV                     1670214\n",
              "SK_ID_CURR                      338857\n",
              "NAME_CONTRACT_TYPE                   4\n",
              "AMT_ANNUITY                     357959\n",
              "AMT_APPLICATION                  93885\n",
              "AMT_CREDIT                       86803\n",
              "AMT_DOWN_PAYMENT                 29278\n",
              "AMT_GOODS_PRICE                  93885\n",
              "WEEKDAY_APPR_PROCESS_START           7\n",
              "HOUR_APPR_PROCESS_START             24\n",
              "FLAG_LAST_APPL_PER_CONTRACT          2\n",
              "NFLAG_LAST_APPL_IN_DAY               2\n",
              "RATE_DOWN_PAYMENT               207033\n",
              "RATE_INTEREST_PRIMARY              148\n",
              "RATE_INTEREST_PRIVILEGED            25\n",
              "NAME_CASH_LOAN_PURPOSE              25\n",
              "NAME_CONTRACT_STATUS                 4\n",
              "DAYS_DECISION                     2922\n",
              "NAME_PAYMENT_TYPE                    4\n",
              "CODE_REJECT_REASON                   9\n",
              "NAME_TYPE_SUITE                      7\n",
              "NAME_CLIENT_TYPE                     4\n",
              "NAME_GOODS_CATEGORY                 28\n",
              "NAME_PORTFOLIO                       5\n",
              "NAME_PRODUCT_TYPE                    3\n",
              "CHANNEL_TYPE                         8\n",
              "SELLERPLACE_AREA                  2097\n",
              "NAME_SELLER_INDUSTRY                11\n",
              "CNT_PAYMENT                         49\n",
              "NAME_YIELD_GROUP                     5\n",
              "PRODUCT_COMBINATION                 17\n",
              "DAYS_FIRST_DRAWING                2838\n",
              "DAYS_FIRST_DUE                    2892\n",
              "DAYS_LAST_DUE_1ST_VERSION         4605\n",
              "DAYS_LAST_DUE                     2873\n",
              "DAYS_TERMINATION                  2830\n",
              "NFLAG_INSURED_ON_APPROVAL            2\n",
              "dtype: int64"
            ]
          },
          "metadata": {},
          "execution_count": 5
        }
      ]
    },
    {
      "cell_type": "code",
      "source": [
        "df_preapp.isnull().sum()"
      ],
      "metadata": {
        "colab": {
          "base_uri": "https://localhost:8080/"
        },
        "id": "DI3wG3FPtTUG",
        "outputId": "142361ce-63ef-4af7-c70b-db08465d3a62"
      },
      "execution_count": null,
      "outputs": [
        {
          "output_type": "execute_result",
          "data": {
            "text/plain": [
              "SK_ID_PREV                           0\n",
              "SK_ID_CURR                           0\n",
              "NAME_CONTRACT_TYPE                   0\n",
              "AMT_ANNUITY                     372235\n",
              "AMT_APPLICATION                      0\n",
              "AMT_CREDIT                           1\n",
              "AMT_DOWN_PAYMENT                895844\n",
              "AMT_GOODS_PRICE                 385515\n",
              "WEEKDAY_APPR_PROCESS_START           0\n",
              "HOUR_APPR_PROCESS_START              0\n",
              "FLAG_LAST_APPL_PER_CONTRACT          0\n",
              "NFLAG_LAST_APPL_IN_DAY               0\n",
              "RATE_DOWN_PAYMENT               895844\n",
              "RATE_INTEREST_PRIMARY          1664263\n",
              "RATE_INTEREST_PRIVILEGED       1664263\n",
              "NAME_CASH_LOAN_PURPOSE               0\n",
              "NAME_CONTRACT_STATUS                 0\n",
              "DAYS_DECISION                        0\n",
              "NAME_PAYMENT_TYPE                    0\n",
              "CODE_REJECT_REASON                   0\n",
              "NAME_TYPE_SUITE                 820405\n",
              "NAME_CLIENT_TYPE                     0\n",
              "NAME_GOODS_CATEGORY                  0\n",
              "NAME_PORTFOLIO                       0\n",
              "NAME_PRODUCT_TYPE                    0\n",
              "CHANNEL_TYPE                         0\n",
              "SELLERPLACE_AREA                     0\n",
              "NAME_SELLER_INDUSTRY                 0\n",
              "CNT_PAYMENT                     372230\n",
              "NAME_YIELD_GROUP                     0\n",
              "PRODUCT_COMBINATION                346\n",
              "DAYS_FIRST_DRAWING              673065\n",
              "DAYS_FIRST_DUE                  673065\n",
              "DAYS_LAST_DUE_1ST_VERSION       673065\n",
              "DAYS_LAST_DUE                   673065\n",
              "DAYS_TERMINATION                673065\n",
              "NFLAG_INSURED_ON_APPROVAL       673065\n",
              "dtype: int64"
            ]
          },
          "metadata": {},
          "execution_count": 7
        }
      ]
    },
    {
      "cell_type": "code",
      "source": [
        "df_preapp['CHANNEL_TYPE'].value_counts()"
      ],
      "metadata": {
        "colab": {
          "base_uri": "https://localhost:8080/"
        },
        "id": "dCeZjxFrxPVb",
        "outputId": "4d157ed5-ca1c-482a-dd91-27e0f9d05e20"
      },
      "execution_count": null,
      "outputs": [
        {
          "output_type": "execute_result",
          "data": {
            "text/plain": [
              "Credit and cash offices       719968\n",
              "Country-wide                  494690\n",
              "Stone                         212083\n",
              "Regional / Local              108528\n",
              "Contact center                 71297\n",
              "AP+ (Cash loan)                57046\n",
              "Channel of corporate sales      6150\n",
              "Car dealer                       452\n",
              "Name: CHANNEL_TYPE, dtype: int64"
            ]
          },
          "metadata": {},
          "execution_count": 8
        }
      ]
    },
    {
      "cell_type": "code",
      "source": [
        "sns.countplot(x='CHANNEL_TYPE', data=df_preapp, palette='hls')\n",
        "plt.show()\n",
        "plt.savefig('count_plot')"
      ],
      "metadata": {
        "colab": {
          "base_uri": "https://localhost:8080/",
          "height": 297
        },
        "id": "z-tlE6h3xenp",
        "outputId": "5e24a7b2-7bd8-4cac-cecf-ceeab7d63a22"
      },
      "execution_count": null,
      "outputs": [
        {
          "output_type": "display_data",
          "data": {
            "text/plain": [
              "<Figure size 432x288 with 1 Axes>"
            ],
            "image/png": "[encoded data removed]"
          },
          "metadata": {
            "needs_background": "light"
          }
        },
        {
          "output_type": "display_data",
          "data": {
            "text/plain": [
              "<Figure size 432x288 with 0 Axes>"
            ]
          },
          "metadata": {}
        }
      ]
    },
    {
      "cell_type": "code",
      "source": [
        "sns.countplot(x='NAME_CONTRACT_TYPE', data=df_preapp, palette='hls')\n",
        "plt.show()\n",
        "plt.savefig('count_plot')"
      ],
      "metadata": {
        "colab": {
          "base_uri": "https://localhost:8080/",
          "height": 297
        },
        "id": "VtjJF1SO0d9M",
        "outputId": "576dcc62-76b7-449c-a91b-0b03416918b9"
      },
      "execution_count": null,
      "outputs": [
        {
          "output_type": "display_data",
          "data": {
            "text/plain": [
              "<Figure size 432x288 with 1 Axes>"
            ],
            "image/png": "[encoded data removed]"
          },
          "metadata": {
            "needs_background": "light"
          }
        },
        {
          "output_type": "display_data",
          "data": {
            "text/plain": [
              "<Figure size 432x288 with 0 Axes>"
            ]
          },
          "metadata": {}
        }
      ]
    },
    {
      "cell_type": "code",
      "source": [
        "sns.countplot(x='NAME_PORTFOLIO', data=df_preapp, palette='hls')\n",
        "plt.show()\n",
        "plt.savefig('count_plot')"
      ],
      "metadata": {
        "colab": {
          "base_uri": "https://localhost:8080/",
          "height": 297
        },
        "id": "F7AQKBw50zkt",
        "outputId": "d383bd0f-18c2-4645-da45-3163ea099680"
      },
      "execution_count": null,
      "outputs": [
        {
          "output_type": "display_data",
          "data": {
            "text/plain": [
              "<Figure size 432x288 with 1 Axes>"
            ],
            "image/png": "[encoded data removed]"
          },
          "metadata": {
            "needs_background": "light"
          }
        },
        {
          "output_type": "display_data",
          "data": {
            "text/plain": [
              "<Figure size 432x288 with 0 Axes>"
            ]
          },
          "metadata": {}
        }
      ]
    },
    {
      "cell_type": "code",
      "source": [
        "sns.countplot(x='NAME_PAYMENT_TYPE', data=df_preapp, palette='hls')\n",
        "plt.show()\n",
        "plt.savefig('count_plot')"
      ],
      "metadata": {
        "colab": {
          "base_uri": "https://localhost:8080/",
          "height": 308
        },
        "id": "fTi7gEPJ1IYS",
        "outputId": "39a6878a-1971-4e9a-ad1f-26bbba38934e"
      },
      "execution_count": null,
      "outputs": [
        {
          "output_type": "display_data",
          "data": {
            "text/plain": [
              "<Figure size 432x288 with 1 Axes>"
            ],
            "image/png": "[encoded data removed]"
          },
          "metadata": {
            "needs_background": "light"
          }
        },
        {
          "output_type": "display_data",
          "data": {
            "text/plain": [
              "<Figure size 432x288 with 0 Axes>"
            ]
          },
          "metadata": {}
        }
      ]
    },
    {
      "cell_type": "code",
      "source": [
        "sns.countplot(x='NAME_YIELD_GROUP', data=df_preapp, palette='hls')\n",
        "plt.show()\n",
        "plt.savefig('count_plot')  "
      ],
      "metadata": {
        "colab": {
          "base_uri": "https://localhost:8080/",
          "height": 298
        },
        "id": "fTXjRwsO1eGY",
        "outputId": "923ee58c-42b9-4238-9f67-acc5d926fdd8"
      },
      "execution_count": null,
      "outputs": [
        {
          "output_type": "display_data",
          "data": {
            "text/plain": [
              "<Figure size 432x288 with 1 Axes>"
            ],
            "image/png": "[encoded data removed]"
          },
          "metadata": {
            "needs_background": "light"
          }
        },
        {
          "output_type": "display_data",
          "data": {
            "text/plain": [
              "<Figure size 432x288 with 0 Axes>"
            ]
          },
          "metadata": {}
        }
      ]
    },
    {
      "cell_type": "code",
      "source": [
        "sns.countplot(x='NAME_PRODUCT_TYPE', data=df_preapp, palette='hls')\n",
        "plt.show()\n",
        "plt.savefig('count_plot')  "
      ],
      "metadata": {
        "colab": {
          "base_uri": "https://localhost:8080/",
          "height": 308
        },
        "id": "zVOeeT_62WgR",
        "outputId": "772dd45e-b775-4f2a-a427-8c30f81a3603"
      },
      "execution_count": null,
      "outputs": [
        {
          "output_type": "display_data",
          "data": {
            "text/plain": [
              "<Figure size 432x288 with 1 Axes>"
            ],
            "image/png": "[encoded data removed]"
          },
          "metadata": {
            "needs_background": "light"
          }
        },
        {
          "output_type": "display_data",
          "data": {
            "text/plain": [
              "<Figure size 432x288 with 0 Axes>"
            ]
          },
          "metadata": {}
        }
      ]
    },
    {
      "cell_type": "code",
      "source": [
        "plt.figure()\n",
        " \n"
      ],
      "metadata": {
        "colab": {
          "base_uri": "https://localhost:8080/",
          "height": 52
        },
        "id": "UUFRSKsfnaSw",
        "outputId": "3d78ddb1-f409-4c6a-871e-5c312c0eaa5e"
      },
      "execution_count": null,
      "outputs": [
        {
          "output_type": "execute_result",
          "data": {
            "text/plain": [
              "<Figure size 432x288 with 0 Axes>"
            ]
          },
          "metadata": {},
          "execution_count": 16
        },
        {
          "output_type": "display_data",
          "data": {
            "text/plain": [
              "<Figure size 432x288 with 0 Axes>"
            ]
          },
          "metadata": {}
        }
      ]
    },
    {
      "cell_type": "code",
      "source": [
        "df_preapp.plot.scatter('RATE_INTEREST_PRIMARY', 'AMT_GOODS_PRICE',\n",
        "                       style='ro')"
      ],
      "metadata": {
        "colab": {
          "base_uri": "https://localhost:8080/",
          "height": 308
        },
        "id": "hvyI4YPoqPAn",
        "outputId": "016f1eea-b96c-40a1-a9f1-79cceda1b722"
      },
      "execution_count": null,
      "outputs": [
        {
          "output_type": "execute_result",
          "data": {
            "text/plain": [
              "<matplotlib.axes._subplots.AxesSubplot at 0x7f53d580c510>"
            ]
          },
          "metadata": {},
          "execution_count": 26
        },
        {
          "output_type": "display_data",
          "data": {
            "text/plain": [
              "<Figure size 432x288 with 1 Axes>"
            ],
            "image/png": "[encoded data removed]"
          },
          "metadata": {
            "needs_background": "light"
          }
        }
      ]
    },
    {
      "cell_type": "code",
      "source": [
        "df_preapp = pd.DataFrame(data = np.random.random(size=(8,3)), columns = ['RATE_DOWN_PAYMENT', 'RATE_INTEREST_PRIMARY', 'RATE_INTEREST_PRIVILEGED'])\n",
        "df_preapp.boxplot()"
      ],
      "metadata": {
        "colab": {
          "base_uri": "https://localhost:8080/",
          "height": 283
        },
        "id": "7YPH3F5e5YPj",
        "outputId": "1e5c56ec-ffba-4f59-a299-4f3954e5af81"
      },
      "execution_count": null,
      "outputs": [
        {
          "output_type": "execute_result",
          "data": {
            "text/plain": [
              "<matplotlib.axes._subplots.AxesSubplot at 0x7f54dd5d5ad0>"
            ]
          },
          "metadata": {},
          "execution_count": 23
        },
        {
          "output_type": "display_data",
          "data": {
            "text/plain": [
              "<Figure size 432x288 with 1 Axes>"
            ],
            "image/png": "[encoded data removed]"
          },
          "metadata": {
            "needs_background": "light"
          }
        }
      ]
    }
  ]
}